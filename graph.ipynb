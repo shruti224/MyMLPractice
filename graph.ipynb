{
 "cells": [
  {
   "cell_type": "code",
   "execution_count": 7,
   "metadata": {},
   "outputs": [
    {
     "name": "stdout",
     "output_type": "stream",
     "text": [
      "enter35\n",
      "1\n",
      "1\n",
      "2\n",
      "3\n",
      "5\n",
      "8\n",
      "13\n",
      "21\n",
      "34\n",
      "55\n",
      "89\n",
      "144\n",
      "233\n",
      "377\n",
      "610\n",
      "987\n",
      "1597\n",
      "2584\n",
      "4181\n",
      "6765\n",
      "10946\n",
      "17711\n",
      "28657\n",
      "46368\n",
      "75025\n",
      "121393\n",
      "196418\n",
      "317811\n",
      "514229\n",
      "832040\n",
      "1346269\n",
      "2178309\n",
      "3524578\n",
      "5702887\n",
      "9227465\n",
      "[1546888870.8582656, 1546888870.8582656, 1546888870.8582656, 1546888870.8582656, 1546888870.8582656, 1546888870.8582656, 1546888870.8582656, 1546888870.8582656, 1546888870.8582656, 1546888870.8582656, 1546888870.8582656, 1546888870.8582656, 1546888870.8582656, 1546888870.8582656, 1546888870.8582656, 1546888870.8582656, 1546888870.8582656, 1546888870.8582656, 1546888870.8582656, 1546888870.8582656, 1546888870.8582656, 1546888870.8582656, 1546888870.8582656, 1546888870.8622649, 1546888870.8622649, 1546888870.8622649, 1546888870.8622649, 1546888870.8622649, 1546888870.8622649, 1546888870.8622649, 1546888870.8622649, 1546888870.8622649, 1546888870.8622649, 1546888870.8622649, 1546888870.8622649]\n"
     ]
    }
   ],
   "source": [
    "#Using a builtin Python tool(LRU-LEAST RECENTLY USED CACHE)\n",
    "\n",
    "import time\n",
    "from functools import lru_cache\n",
    "@lru_cache(maxsize=1000)   #If maxsize not given ,by default python takes it to be 128\n",
    "def fibonacci(n):\n",
    "    if type(n)!=int:           # check value is of integer type only\n",
    "        raise TypeError(\"n must be a positive int\")\n",
    "    if n==1:\n",
    "        return 1\n",
    "    elif n==2:\n",
    "        return 1\n",
    "    elif n>2:\n",
    "        return fibonacci(n-1) + fibonacci(n-2)\n",
    "a=int(input(\"enter\"))\n",
    "list1=[]\n",
    "if a<1:\n",
    "        raise ValueError(\"n must be a positive int\")\n",
    "else:\n",
    "    for i in range(1,a+1):\n",
    "        print(fibonacci(i))\n",
    "        x=time.time()\n",
    "        list1.append(x)\n",
    "print(list1)\n",
    "        "
   ]
  },
  {
   "cell_type": "code",
   "execution_count": 8,
   "metadata": {},
   "outputs": [
    {
     "name": "stdout",
     "output_type": "stream",
     "text": [
      "enter35\n",
      "1\n",
      "1\n",
      "2\n",
      "3\n",
      "5\n",
      "8\n",
      "13\n",
      "21\n",
      "34\n",
      "55\n",
      "89\n",
      "144\n",
      "233\n",
      "377\n",
      "610\n",
      "987\n",
      "1597\n",
      "2584\n",
      "4181\n",
      "6765\n",
      "10946\n",
      "17711\n",
      "28657\n",
      "46368\n",
      "75025\n",
      "121393\n",
      "196418\n",
      "317811\n",
      "514229\n",
      "832040\n",
      "1346269\n",
      "2178309\n",
      "3524578\n",
      "5702887\n",
      "9227465\n",
      "[1546888876.4504638, 1546888876.4504638, 1546888876.4504638, 1546888876.4504638, 1546888876.4504638, 1546888876.4504638, 1546888876.4504638, 1546888876.4504638, 1546888876.4504638, 1546888876.4504638, 1546888876.454465, 1546888876.454465, 1546888876.454465, 1546888876.454465, 1546888876.454465, 1546888876.454465, 1546888876.454465, 1546888876.4584625, 1546888876.4621453, 1546888876.4621453, 1546888876.4777727, 1546888876.4933963, 1546888876.5090227, 1546888876.540274, 1546888876.5715253, 1546888876.6496532, 1546888876.7796319, 1546888876.9634626, 1546888877.2759793, 1546888877.7946944, 1546888878.69641, 1546888880.2153852, 1546888882.3422437, 1546888885.6777644, 1546888891.1375635]\n"
     ]
    }
   ],
   "source": [
    "import time\n",
    "def fibonacci(n):\n",
    "    if n==1:\n",
    "        return 1\n",
    "    elif n==2:\n",
    "        return 1\n",
    "    elif n>2:\n",
    "        return fibonacci(n-1) + fibonacci(n-2)\n",
    "a=int(input(\"enter\"))\n",
    "list2=[]\n",
    "for i in range(1,a+1):\n",
    "    print(fibonacci(i))\n",
    "    y=time.time()\n",
    "    list2.append(y)\n",
    "print(list2)"
   ]
  },
  {
   "cell_type": "code",
   "execution_count": null,
   "metadata": {},
   "outputs": [],
   "source": [
    "import matplotlib.pyplot as plt\n"
   ]
  },
  {
   "cell_type": "code",
   "execution_count": 9,
   "metadata": {},
   "outputs": [
    {
     "data": {
      "image/png": "[encoded data removed]",
      "text/plain": [
       "<matplotlib.figure.Figure at 0x7e9cc70>"
      ]
     },
     "metadata": {},
     "output_type": "display_data"
    }
   ],
   "source": [
    "import matplotlib.pyplot as plt\n",
    "%matplotlib inline\n",
    "#list1=[1546888215.1392946, 1546888215.1392946]\n",
    "#list2=[1546887974.5884085, 1546887974.5884085]\n",
    "plt.plot(list1,list2)\n",
    "plt.show()"
   ]
  },
  {
   "cell_type": "code",
   "execution_count": null,
   "metadata": {
    "collapsed": true
   },
   "outputs": [],
   "source": []
  }
 ],
 "metadata": {
  "kernelspec": {
   "display_name": "Python 3",
   "language": "python",
   "name": "python3"
  },
  "language_info": {
   "codemirror_mode": {
    "name": "ipython",
    "version": 3
   },
   "file_extension": ".py",
   "mimetype": "text/x-python",
   "name": "python",
   "nbconvert_exporter": "python",
   "pygments_lexer": "ipython3",
   "version": "3.6.3"
  }
 },
 "nbformat": 4,
 "nbformat_minor": 2
}
