{
 "cells": [
  {
   "cell_type": "code",
   "execution_count": null,
   "metadata": {
    "collapsed": true
   },
   "outputs": [],
   "source": [
    "# A program to implement fibonacci series\n",
    "\n",
    "\n",
    "def fibonacci(n):\n",
    "    if n==1:\n",
    "        return 1\n",
    "    elif n==2:\n",
    "        return 1\n",
    "    elif n>2:\n",
    "        return fibonacci(n-1) + fibonacci(n-2)\n",
    "a=int(input(\"enter\"))\n",
    "for i in range(1,a+1):\n",
    "    print(fibonacci(i))"
   ]
  },
  {
   "cell_type": "code",
   "execution_count": null,
   "metadata": {
    "collapsed": true
   },
   "outputs": [],
   "source": [
    " # MEMOIZATION(a technique to store the value for function call so no repetition to be done in future calls)\n",
    "# There are two way to implement it\n",
    "\n",
    "# 1. Implement Explicitly\n",
    "\n",
    "fibonacci_cache1={}       # created a dict to store the cached values\n",
    "\n",
    "def fibonacci(n):\n",
    "    if n in fibonacci_cache1:     #check if it is already present in cache\n",
    "        return fibonacci_cache1[n]\n",
    "    else:                        #calculate if not present       \n",
    "        if n==1:\n",
    "            return 1\n",
    "        elif n==2:\n",
    "            return 1\n",
    "        elif n>2:\n",
    "            value= fibonacci(n-1) + fibonacci(n-2)\n",
    "    \n",
    "        fibonacci_cache1[n]=value    #storing the value in cache if already not present and then \n",
    "        return value                 # return\n",
    "a=int(input(\"enter\"))\n",
    "for i in range(1,a+1):\n",
    "    print(fibonacci(i))"
   ]
  },
  {
   "cell_type": "code",
   "execution_count": null,
   "metadata": {
    "collapsed": true
   },
   "outputs": [],
   "source": [
    "#Using a builtin Python tool(LRU-LEAST RECENTLY USED CACHE)\n",
    "\n",
    "from functools import lru_cache\n",
    "@lru_cache(maxsize=1000)   #If maxsize not given ,by default python takes it to be 128\n",
    "def fibonacci(n):\n",
    "    if type(n)!=int:           # check value is of integer type only\n",
    "        raise TypeError(\"n must be a positive int\")\n",
    "    if n==1:\n",
    "        return 1\n",
    "    elif n==2:\n",
    "        return 1\n",
    "    elif n>2:\n",
    "        return fibonacci(n-1) + fibonacci(n-2)\n",
    "a=int(input(\"enter\"))\n",
    "if a<1:\n",
    "        raise ValueError(\"n must be a positive int\")\n",
    "else:\n",
    "    for i in range(1,a+1):\n",
    "        print(fibonacci(i))"
   ]
  }
 ],
 "metadata": {
  "kernelspec": {
   "display_name": "Python 3",
   "language": "python",
   "name": "python3"
  },
  "language_info": {
   "codemirror_mode": {
    "name": "ipython",
    "version": 3
   },
   "file_extension": ".py",
   "mimetype": "text/x-python",
   "name": "python",
   "nbconvert_exporter": "python",
   "pygments_lexer": "ipython3",
   "version": "3.6.3"
  }
 },
 "nbformat": 4,
 "nbformat_minor": 2
}
