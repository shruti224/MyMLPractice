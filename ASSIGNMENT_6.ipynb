{
 "cells": [
  {
   "cell_type": "markdown",
   "metadata": {},
   "source": [
    "# ITERATOR"
   ]
  },
  {
   "cell_type": "raw",
   "metadata": {},
   "source": [
    "In python,an iterator is an object which implements the iterator protocol.\n",
    "The iterator protocol consists of two methos:__iter__() method,which must return the iterator object, and the next() method,which returns the next element from a sequence.\n",
    "Python has several built-in objects,which implement the iterator protocol.For example lists,tuples,strings,dictionaries or files."
   ]
  },
  {
   "cell_type": "code",
   "execution_count": 7,
   "metadata": {},
   "outputs": [
    {
     "name": "stdout",
     "output_type": "stream",
     "text": [
      "i t e r a t i o n \n",
      "i\n",
      "('t', 'e', 'r', 'a', 't', 'i', 'o', 'n')\n"
     ]
    }
   ],
   "source": [
    "str=\"iteration\"\n",
    "for i in str:\n",
    "    print(i,end=\" \")\n",
    "print()\n",
    "\n",
    "it=iter(str)\n",
    "\n",
    "print(next(it))\n",
    "print((list(it))"
   ]
  },
  {
   "cell_type": "markdown",
   "metadata": {},
   "source": [
    "# MAP"
   ]
  },
  {
   "cell_type": "raw",
   "metadata": {},
   "source": [
    "The map() function applies a given function to each item of an iterable(list,tuple etc.) and returns a list of the results. \n",
    "The syntax of map() is:\n",
    "    map(function,iterable,....)"
   ]
  },
  {
   "cell_type": "code",
   "execution_count": 9,
   "metadata": {},
   "outputs": [
    {
     "name": "stdout",
     "output_type": "stream",
     "text": [
      "<map object at 0x00AFD3B0>\n",
      "[1, 4, 9, 16]\n"
     ]
    }
   ],
   "source": [
    "def calsqr(n):\n",
    "    return n*n\n",
    "numbers=(1,2,3,4)\n",
    "result=map(calsqr,numbers)\n",
    "print(result)\n",
    "numberssqr=list(result)\n",
    "print(numberssqr)"
   ]
  },
  {
   "cell_type": "markdown",
   "metadata": {},
   "source": [
    "# reduce"
   ]
  },
  {
   "cell_type": "raw",
   "metadata": {},
   "source": [
    "The reduce function will transform a given list into a single value by applying\n",
    "a given function continuously to all the elements.\n",
    "It basically keeps operating on pairs of elements until there are no more elements left."
   ]
  },
  {
   "cell_type": "code",
   "execution_count": 10,
   "metadata": {},
   "outputs": [
    {
     "name": "stdout",
     "output_type": "stream",
     "text": [
      "sum of values in list=\n",
      "65\n"
     ]
    }
   ],
   "source": [
    "import functools     #functools is module that contains the function reduce()\n",
    "\n",
    "def add(x,y):\n",
    "    return(x+y)\n",
    "num_list=[11,12,13,14,15]\n",
    "print(\"sum of values in list=\")\n",
    "print(functools.reduce(add,num_list))"
   ]
  },
  {
   "cell_type": "markdown",
   "metadata": {},
   "source": [
    "# LIST COMPREHENSION"
   ]
  },
  {
   "cell_type": "raw",
   "metadata": {},
   "source": [
    "List comprehension are used for creating new list from another iterables.\n",
    "As list comprehension returns list,they consists of brackets containing the \n",
    "expression which needs to be executed for each element along with the for loop\n",
    "to iterate over each element.\n",
    "Syntax:\n",
    "    new_list=[expression for_loop_one_or_more conditions]"
   ]
  },
  {
   "cell_type": "code",
   "execution_count": 12,
   "metadata": {},
   "outputs": [
    {
     "name": "stdout",
     "output_type": "stream",
     "text": [
      "[1, 4, 9, 16]\n"
     ]
    }
   ],
   "source": [
    "numbers=[1,2,3,4]\n",
    "sq=[n**2 for n in numbers]\n",
    "\n",
    "print(sq)"
   ]
  },
  {
   "cell_type": "markdown",
   "metadata": {},
   "source": [
    "# MAGIC FUNCTIONS"
   ]
  },
  {
   "cell_type": "raw",
   "metadata": {},
   "source": [
    "In python,special methods are a set of predefined methods you can use to enrich your classes.\n",
    "They are easy to recognize because they start and end with double underscores,for example\n",
    "__init__ or __str__.\n",
    "Dunder methods is a short form of \"double under\".\n",
    "These \"dunders\" or \"special methods\" in Python are also sometimes called \"magic methods.\"\n",
    "These are used for operator overloading and allow you to emulate the behaviour of the built-in types."
   ]
  },
  {
   "cell_type": "markdown",
   "metadata": {},
   "source": [
    "# RMS"
   ]
  },
  {
   "cell_type": "code",
   "execution_count": 24,
   "metadata": {},
   "outputs": [
    {
     "name": "stdout",
     "output_type": "stream",
     "text": [
      "2.73861278753\n"
     ]
    }
   ],
   "source": [
    "import  numpy as np \n",
    "a=np.array([1,2,3,4])\n",
    "rms=np.sqrt(np.mean(a**2))\n",
    "print(rms)"
   ]
  },
  {
   "cell_type": "code",
   "execution_count": null,
   "metadata": {
    "collapsed": true
   },
   "outputs": [],
   "source": []
  }
 ],
 "metadata": {
  "kernelspec": {
   "display_name": "Python 3",
   "language": "python",
   "name": "python3"
  },
  "language_info": {
   "codemirror_mode": {
    "name": "ipython",
    "version": 3
   },
   "file_extension": ".py",
   "mimetype": "text/x-python",
   "name": "python",
   "nbconvert_exporter": "python",
   "pygments_lexer": "ipython3",
   "version": "3.6.3"
  }
 },
 "nbformat": 4,
 "nbformat_minor": 2
}
